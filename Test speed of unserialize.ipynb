{
 "cells": [
  {
   "cell_type": "markdown",
   "metadata": {},
   "source": [
    "# Problem "
   ]
  },
  {
   "cell_type": "markdown",
   "metadata": {},
   "source": [
    "Creating objects in PHP is not for free.\n",
    "Especially in Drupal 8 you create a hell lot of objects,\n",
    "which are always the same."
   ]
  },
  {
   "cell_type": "markdown",
   "metadata": {},
   "source": [
    "# Idea "
   ]
  },
  {
   "cell_type": "markdown",
   "metadata": {},
   "source": [
    "Store serialized versions of those objects to speed up the bootstrap time.\n",
    "Potential candidates:\n",
    "\n",
    "* Router and all its subclasses\n",
    "* Objects needed for pagecache.\n",
    "* Caching system"
   ]
  },
  {
   "cell_type": "markdown",
   "metadata": {},
   "source": [
    "# Test"
   ]
  },
  {
   "cell_type": "markdown",
   "metadata": {},
   "source": [
    "* Create 5 classes with dependencies to each other;\n",
    "\n",
    "```\n",
    "e -> d -> c -> b -> a\n",
    "```\n",
    "* Create 1000 of those objects\n",
    "* Compare the result of the stored serialized string (\"bench-unserializer.php\") vs. the \n",
    "  running the code to initialize them (\"bench-code.php\")\n"
   ]
  },
  {
   "cell_type": "markdown",
   "metadata": {},
   "source": [
    "## Benchmark of code"
   ]
  },
  {
   "cell_type": "code",
   "execution_count": 12,
   "metadata": {
    "collapsed": false
   },
   "outputs": [
    {
     "name": "stdout",
     "output_type": "stream",
     "text": [
      "0.027001\n",
      "0.029228\n",
      "0.031001\n",
      "0.031366\n",
      "0.02799\n",
      "0.031171\n",
      "0.033481\n",
      "0.028453\n",
      "0.027125\n",
      "0.029395\n"
     ]
    }
   ],
   "source": [
    "!php bench-code.php\n",
    "!php bench-code.php\n",
    "!php bench-code.php\n",
    "!php bench-code.php\n",
    "!php bench-code.php\n",
    "!php bench-code.php\n",
    "!php bench-code.php\n",
    "!php bench-code.php\n",
    "!php bench-code.php\n",
    "!php bench-code.php"
   ]
  },
  {
   "cell_type": "code",
   "execution_count": 9,
   "metadata": {
    "collapsed": true
   },
   "outputs": [],
   "source": [
    "import numpy as np"
   ]
  },
  {
   "cell_type": "code",
   "execution_count": 15,
   "metadata": {
    "collapsed": false
   },
   "outputs": [
    {
     "name": "stdout",
     "output_type": "stream",
     "text": [
      "0.0296211 0.00198936801271\n",
      "Time per object creation 2.96211e-05 [µs]\n"
     ]
    }
   ],
   "source": [
    "bench_code = np.array([0.027001,\n",
    "0.029228,\n",
    "0.031001,\n",
    "0.031366,\n",
    "0.02799,\n",
    "0.031171,\n",
    "0.033481,\n",
    "0.028453,\n",
    "0.027125,\n",
    "0.029395])\n",
    "\n",
    "print np.average(bench_code), np.std(bench_code)\n",
    "code_time_per_object = np.average(bench_code) / 1000\n",
    "print \"Time per object creation {} [µs]\".format(code_time_per_object)"
   ]
  },
  {
   "cell_type": "markdown",
   "metadata": {},
   "source": [
    "## Benchmark of unserialize"
   ]
  },
  {
   "cell_type": "code",
   "execution_count": 16,
   "metadata": {
    "collapsed": false
   },
   "outputs": [
    {
     "name": "stdout",
     "output_type": "stream",
     "text": [
      "0.00615\n",
      "0.0061829999999999\n",
      "0.005752\n",
      "0.006157\n",
      "0.0056050000000001\n",
      "0.005549\n",
      "0.005524\n",
      "0.007291\n",
      "0.005641\n",
      "0.005537\n"
     ]
    }
   ],
   "source": [
    "!php bench-unserializer.php\n",
    "!php bench-unserializer.php\n",
    "!php bench-unserializer.php\n",
    "!php bench-unserializer.php\n",
    "!php bench-unserializer.php\n",
    "!php bench-unserializer.php\n",
    "!php bench-unserializer.php\n",
    "!php bench-unserializer.php\n",
    "!php bench-unserializer.php\n",
    "!php bench-unserializer.php"
   ]
  },
  {
   "cell_type": "code",
   "execution_count": 17,
   "metadata": {
    "collapsed": false
   },
   "outputs": [
    {
     "name": "stdout",
     "output_type": "stream",
     "text": [
      "0.0059389 0.00051968672294\n",
      "Time per unserialize object 5.9389e-06 [µs]\n"
     ]
    }
   ],
   "source": [
    "bench_unserialize = np.array([0.00615,\n",
    "0.0061829999999999,\n",
    "0.005752,\n",
    "0.006157,\n",
    "0.0056050000000001,\n",
    "0.005549,\n",
    "0.005524,\n",
    "0.007291,\n",
    "0.005641,\n",
    "0.005537])\n",
    "\n",
    "print np.average(bench_unserialize), np.std(bench_unserialize)\n",
    "unserialize_time_per_object = np.average(bench_unserialize) / 1000\n",
    "print \"Time per unserialize object {} [µs]\".format(unserialize_time_per_object)"
   ]
  },
  {
   "cell_type": "markdown",
   "metadata": {},
   "source": [
    "# Result"
   ]
  },
  {
   "cell_type": "markdown",
   "metadata": {},
   "source": [
    "We have seen for that simple case that using unserialize() is quicker,\n",
    "though we talk abour 3*10^-5 µs which is not a lot."
   ]
  },
  {
   "cell_type": "markdown",
   "metadata": {},
   "source": [
    "# Interpretation "
   ]
  },
  {
   "cell_type": "markdown",
   "metadata": {},
   "source": [
    "Yes, its indeed faster for those objects to be created via unserialize.\n",
    "\n",
    "Open questions:\n",
    "\n",
    "* Does the object size matters (amount of properties)\n",
    "* How does that scale for more references."
   ]
  },
  {
   "cell_type": "code",
   "execution_count": null,
   "metadata": {
    "collapsed": true
   },
   "outputs": [],
   "source": []
  }
 ],
 "metadata": {
  "kernelspec": {
   "display_name": "Python 2",
   "language": "python",
   "name": "python2"
  },
  "language_info": {
   "codemirror_mode": {
    "name": "ipython",
    "version": 2
   },
   "file_extension": ".py",
   "mimetype": "text/x-python",
   "name": "python",
   "nbconvert_exporter": "python",
   "pygments_lexer": "ipython2",
   "version": "2.7.9"
  }
 },
 "nbformat": 4,
 "nbformat_minor": 0
}
