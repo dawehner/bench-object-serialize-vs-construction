{
 "cells": [
  {
   "cell_type": "markdown",
   "metadata": {},
   "source": [
    "Git repo: https://github.com/dawehner/bench-object-serialize-vs-construction"
   ]
  },
  {
   "cell_type": "markdown",
   "metadata": {},
   "source": [
    "# Problem "
   ]
  },
  {
   "cell_type": "markdown",
   "metadata": {},
   "source": [
    "Creating objects in PHP is not for free.\n",
    "Especially in Drupal 8 you create a hell lot of objects,\n",
    "which are always the same."
   ]
  },
  {
   "cell_type": "markdown",
   "metadata": {},
   "source": [
    "# Idea "
   ]
  },
  {
   "cell_type": "markdown",
   "metadata": {},
   "source": [
    "Store serialized versions of those objects to speed up the bootstrap time.\n",
    "Potential candidates:\n",
    "\n",
    "* Router and all its subclasses\n",
    "* Objects needed for pagecache.\n",
    "* Caching system"
   ]
  },
  {
   "cell_type": "markdown",
   "metadata": {},
   "source": [
    "# Test"
   ]
  },
  {
   "cell_type": "markdown",
   "metadata": {},
   "source": [
    "* Create 5 classes with dependencies to each other;\n",
    "\n",
    "```\n",
    "e -> d -> c -> b -> a\n",
    "```\n",
    "* Create 1000 of those objects\n",
    "* Compare the result of the stored serialized string (\"bench-unserializer.php\") vs. the \n",
    "  running the code to initialize them (\"bench-code.php\")\n"
   ]
  },
  {
   "cell_type": "markdown",
   "metadata": {},
   "source": [
    "## Benchmark of code"
   ]
  },
  {
   "cell_type": "code",
   "execution_count": 12,
   "metadata": {
    "collapsed": false
   },
   "outputs": [
    {
     "name": "stdout",
     "output_type": "stream",
     "text": [
      "0.027001\n",
      "0.029228\n",
      "0.031001\n",
      "0.031366\n",
      "0.02799\n",
      "0.031171\n",
      "0.033481\n",
      "0.028453\n",
      "0.027125\n",
      "0.029395\n"
     ]
    }
   ],
   "source": [
    "!php bench-code.php\n",
    "!php bench-code.php\n",
    "!php bench-code.php\n",
    "!php bench-code.php\n",
    "!php bench-code.php\n",
    "!php bench-code.php\n",
    "!php bench-code.php\n",
    "!php bench-code.php\n",
    "!php bench-code.php\n",
    "!php bench-code.php"
   ]
  },
  {
   "cell_type": "code",
   "execution_count": 9,
   "metadata": {
    "collapsed": true
   },
   "outputs": [],
   "source": [
    "import numpy as np"
   ]
  },
  {
   "cell_type": "code",
   "execution_count": 15,
   "metadata": {
    "collapsed": false
   },
   "outputs": [
    {
     "name": "stdout",
     "output_type": "stream",
     "text": [
      "0.0296211 0.00198936801271\n",
      "Time per object creation 2.96211e-05 [µs]\n"
     ]
    }
   ],
   "source": [
    "bench_code = np.array([0.027001,\n",
    "0.029228,\n",
    "0.031001,\n",
    "0.031366,\n",
    "0.02799,\n",
    "0.031171,\n",
    "0.033481,\n",
    "0.028453,\n",
    "0.027125,\n",
    "0.029395])\n",
    "\n",
    "print np.average(bench_code), np.std(bench_code)\n",
    "code_time_per_object = np.average(bench_code) / 1000\n",
    "print \"Time per object creation {} [µs]\".format(code_time_per_object)"
   ]
  },
  {
   "cell_type": "markdown",
   "metadata": {},
   "source": [
    "## Benchmark of unserialize"
   ]
  },
  {
   "cell_type": "code",
   "execution_count": 16,
   "metadata": {
    "collapsed": false
   },
   "outputs": [
    {
     "name": "stdout",
     "output_type": "stream",
     "text": [
      "0.00615\n",
      "0.0061829999999999\n",
      "0.005752\n",
      "0.006157\n",
      "0.0056050000000001\n",
      "0.005549\n",
      "0.005524\n",
      "0.007291\n",
      "0.005641\n",
      "0.005537\n"
     ]
    }
   ],
   "source": [
    "!php bench-unserializer.php\n",
    "!php bench-unserializer.php\n",
    "!php bench-unserializer.php\n",
    "!php bench-unserializer.php\n",
    "!php bench-unserializer.php\n",
    "!php bench-unserializer.php\n",
    "!php bench-unserializer.php\n",
    "!php bench-unserializer.php\n",
    "!php bench-unserializer.php\n",
    "!php bench-unserializer.php"
   ]
  },
  {
   "cell_type": "code",
   "execution_count": 17,
   "metadata": {
    "collapsed": false
   },
   "outputs": [
    {
     "name": "stdout",
     "output_type": "stream",
     "text": [
      "0.0059389 0.00051968672294\n",
      "Time per unserialize object 5.9389e-06 [µs]\n"
     ]
    }
   ],
   "source": [
    "bench_unserialize = np.array([0.00615,\n",
    "0.0061829999999999,\n",
    "0.005752,\n",
    "0.006157,\n",
    "0.0056050000000001,\n",
    "0.005549,\n",
    "0.005524,\n",
    "0.007291,\n",
    "0.005641,\n",
    "0.005537])\n",
    "\n",
    "print np.average(bench_unserialize), np.std(bench_unserialize)\n",
    "unserialize_time_per_object = np.average(bench_unserialize) / 1000\n",
    "print \"Time per unserialize object {} [µs]\".format(unserialize_time_per_object)"
   ]
  },
  {
   "cell_type": "code",
   "execution_count": 21,
   "metadata": {
    "collapsed": false
   },
   "outputs": [
    {
     "name": "stdout",
     "output_type": "stream",
     "text": [
      "4.9876408089\n"
     ]
    }
   ],
   "source": [
    "print code_time_per_object / unserialize_time_per_object"
   ]
  },
  {
   "cell_type": "markdown",
   "metadata": {},
   "source": [
    "# Result"
   ]
  },
  {
   "cell_type": "markdown",
   "metadata": {},
   "source": [
    "We have seen for that simple case that using unserialize() is quicker,\n",
    "though we talk abour 3*10^-5 µs which is not a lot."
   ]
  },
  {
   "cell_type": "markdown",
   "metadata": {},
   "source": [
    "# Interpretation "
   ]
  },
  {
   "cell_type": "markdown",
   "metadata": {},
   "source": [
    "Yes, its indeed faster for those objects to be created via unserialize.\n",
    "\n",
    "Open questions:\n",
    "\n",
    "* Does the object size matters (amount of properties)\n",
    "* How does that scale for more references."
   ]
  },
  {
   "cell_type": "markdown",
   "metadata": {},
   "source": [
    "# Scaling "
   ]
  },
  {
   "cell_type": "markdown",
   "metadata": {
    "collapsed": true
   },
   "source": [
    "4 properties per object\n",
    "16 properties per object"
   ]
  },
  {
   "cell_type": "markdown",
   "metadata": {},
   "source": [
    "## 4 properties"
   ]
  },
  {
   "cell_type": "code",
   "execution_count": 23,
   "metadata": {
    "collapsed": false
   },
   "outputs": [
    {
     "name": "stdout",
     "output_type": "stream",
     "text": [
      "0.031014\n",
      "0.028379\n",
      "0.03594\n",
      "0.029068\n",
      "0.032994\n",
      "0.027917\n",
      "0.033898\n",
      "0.041566\n",
      "0.039989\n",
      "0.030736\n"
     ]
    }
   ],
   "source": [
    "!php bench-code-4.php\n",
    "!php bench-code-4.php\n",
    "!php bench-code-4.php\n",
    "!php bench-code-4.php\n",
    "!php bench-code-4.php\n",
    "!php bench-code-4.php\n",
    "!php bench-code-4.php\n",
    "!php bench-code-4.php\n",
    "!php bench-code-4.php\n",
    "!php bench-code-4.php"
   ]
  },
  {
   "cell_type": "code",
   "execution_count": 24,
   "metadata": {
    "collapsed": false
   },
   "outputs": [
    {
     "name": "stdout",
     "output_type": "stream",
     "text": [
      "0.0331501 0.00450741902756\n",
      "Time per unserialize object 3.31501e-05 [µs]\n"
     ]
    }
   ],
   "source": [
    "bench_code4 = np.array([0.031014,\n",
    "0.028379,\n",
    "0.03594,\n",
    "0.029068,\n",
    "0.032994,\n",
    "0.027917,\n",
    "0.033898,\n",
    "0.041566,\n",
    "0.039989,\n",
    "0.030736])\n",
    "\n",
    "print np.average(bench_code4), np.std(bench_code4)\n",
    "code4_time_per_object = np.average(bench_code4) / 1000\n",
    "print \"Time per code object {} [µs]\".format(code4_time_per_object)"
   ]
  },
  {
   "cell_type": "code",
   "execution_count": 25,
   "metadata": {
    "collapsed": false
   },
   "outputs": [
    {
     "name": "stdout",
     "output_type": "stream",
     "text": [
      "0.01755\n",
      "0.017893\n",
      "0.016744\n",
      "0.019904\n",
      "0.018148\n",
      "0.01735\n",
      "0.015803\n",
      "0.017528\n",
      "0.018816\n",
      "0.017837\n"
     ]
    }
   ],
   "source": [
    "!php bench-unserializer-4.php\n",
    "!php bench-unserializer-4.php\n",
    "!php bench-unserializer-4.php\n",
    "!php bench-unserializer-4.php\n",
    "!php bench-unserializer-4.php\n",
    "!php bench-unserializer-4.php\n",
    "!php bench-unserializer-4.php\n",
    "!php bench-unserializer-4.php\n",
    "!php bench-unserializer-4.php\n",
    "!php bench-unserializer-4.php"
   ]
  },
  {
   "cell_type": "code",
   "execution_count": 27,
   "metadata": {
    "collapsed": false
   },
   "outputs": [
    {
     "name": "stdout",
     "output_type": "stream",
     "text": [
      "0.0177573 0.00104948035236\n",
      "Time per unserialize object 1.77573e-05 [µs]\n"
     ]
    }
   ],
   "source": [
    "bench_unserialize4 = np.array([0.01755,\n",
    "0.017893,\n",
    "0.016744,\n",
    "0.019904,\n",
    "0.018148,\n",
    "0.01735,\n",
    "0.015803,\n",
    "0.017528,\n",
    "0.018816,\n",
    "0.017837])\n",
    "\n",
    "print np.average(bench_unserialize4), np.std(bench_unserialize4)\n",
    "unserialize4_time_per_object = np.average(bench_unserialize4) / 1000\n",
    "print \"Time per unserialize object {} [µs]\".format(unserialize4_time_per_object)"
   ]
  },
  {
   "cell_type": "code",
   "execution_count": 28,
   "metadata": {
    "collapsed": false
   },
   "outputs": [
    {
     "name": "stdout",
     "output_type": "stream",
     "text": [
      "1.86684349535\n"
     ]
    }
   ],
   "source": [
    "print code4_time_per_object / unserialize4_time_per_object"
   ]
  },
  {
   "cell_type": "markdown",
   "metadata": {},
   "source": [
    "## 16 properties"
   ]
  },
  {
   "cell_type": "code",
   "execution_count": 29,
   "metadata": {
    "collapsed": false
   },
   "outputs": [
    {
     "name": "stdout",
     "output_type": "stream",
     "text": [
      "0.035735\n",
      "0.035088\n",
      "0.034778\n",
      "0.034031\n",
      "0.032548\n",
      "0.033749\n",
      "0.033642\n",
      "0.035263\n",
      "0.035749\n",
      "0.031944\n"
     ]
    }
   ],
   "source": [
    "!php bench-code-16.php\n",
    "!php bench-code-16.php\n",
    "!php bench-code-16.php\n",
    "!php bench-code-16.php\n",
    "!php bench-code-16.php\n",
    "!php bench-code-16.php\n",
    "!php bench-code-16.php\n",
    "!php bench-code-16.php\n",
    "!php bench-code-16.php\n",
    "!php bench-code-16.php"
   ]
  },
  {
   "cell_type": "code",
   "execution_count": 30,
   "metadata": {
    "collapsed": false
   },
   "outputs": [
    {
     "name": "stdout",
     "output_type": "stream",
     "text": [
      "0.0342527 0.00123864507023\n",
      "Time per code object 3.42527e-05 [µs]\n"
     ]
    }
   ],
   "source": [
    "bench_code16 = np.array([0.035735,\n",
    "0.035088,\n",
    "0.034778,\n",
    "0.034031,\n",
    "0.032548,\n",
    "0.033749,\n",
    "0.033642,\n",
    "0.035263,\n",
    "0.035749,\n",
    "0.031944])\n",
    "\n",
    "print np.average(bench_code16), np.std(bench_code16)\n",
    "code16_time_per_object = np.average(bench_code16) / 1000\n",
    "print \"Time per code object {} [µs]\".format(code16_time_per_object)"
   ]
  },
  {
   "cell_type": "code",
   "execution_count": 31,
   "metadata": {
    "collapsed": false
   },
   "outputs": [
    {
     "name": "stdout",
     "output_type": "stream",
     "text": [
      "0.063932\n",
      "0.083809\n",
      "0.06765\n",
      "0.070942\n",
      "0.067444\n",
      "0.074689\n",
      "0.069375\n",
      "0.071129\n",
      "0.066572\n",
      "0.0714\n"
     ]
    }
   ],
   "source": [
    "!php bench-unserializer-16.php\n",
    "!php bench-unserializer-16.php\n",
    "!php bench-unserializer-16.php\n",
    "!php bench-unserializer-16.php\n",
    "!php bench-unserializer-16.php\n",
    "!php bench-unserializer-16.php\n",
    "!php bench-unserializer-16.php\n",
    "!php bench-unserializer-16.php\n",
    "!php bench-unserializer-16.php\n",
    "!php bench-unserializer-16.php"
   ]
  },
  {
   "cell_type": "code",
   "execution_count": 33,
   "metadata": {
    "collapsed": false
   },
   "outputs": [
    {
     "name": "stdout",
     "output_type": "stream",
     "text": [
      "0.0706942 0.00522490324886\n",
      "Time per unserialize object 7.06942e-05 [µs]\n"
     ]
    }
   ],
   "source": [
    "bench_unserialize16 = np.array([0.063932,\n",
    "0.083809,\n",
    "0.06765,\n",
    "0.070942,\n",
    "0.067444,\n",
    "0.074689,\n",
    "0.069375,\n",
    "0.071129,\n",
    "0.066572,\n",
    "0.0714])\n",
    "\n",
    "print np.average(bench_unserialize16), np.std(bench_unserialize16)\n",
    "unserialize16_time_per_object = np.average(bench_unserialize16) / 1000\n",
    "print \"Time per unserialize object {} [µs]\".format(unserialize16_time_per_object)"
   ]
  },
  {
   "cell_type": "code",
   "execution_count": 34,
   "metadata": {
    "collapsed": false
   },
   "outputs": [
    {
     "name": "stdout",
     "output_type": "stream",
     "text": [
      "0.484519239202\n"
     ]
    }
   ],
   "source": [
    "print code16_time_per_object / unserialize16_time_per_object"
   ]
  },
  {
   "cell_type": "code",
   "execution_count": null,
   "metadata": {
    "collapsed": true
   },
   "outputs": [],
   "source": []
  }
 ],
 "metadata": {
  "kernelspec": {
   "display_name": "Python 2",
   "language": "python",
   "name": "python2"
  },
  "language_info": {
   "codemirror_mode": {
    "name": "ipython",
    "version": 2
   },
   "file_extension": ".py",
   "mimetype": "text/x-python",
   "name": "python",
   "nbconvert_exporter": "python",
   "pygments_lexer": "ipython2",
   "version": "2.7.9"
  }
 },
 "nbformat": 4,
 "nbformat_minor": 0
}
